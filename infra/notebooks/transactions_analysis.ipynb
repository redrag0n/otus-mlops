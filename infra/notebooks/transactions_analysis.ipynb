{
 "cells": [
  {
   "cell_type": "code",
   "execution_count": 1,
   "id": "483b6d9c",
   "metadata": {},
   "outputs": [],
   "source": [
    "!pip install findspark\n",
    "!pip install pyspark\n"
   ]
  },
  {
   "cell_type": "code",
   "execution_count": 2,
   "id": "bc901840",
   "metadata": {},
   "outputs": [],
   "source": [
    "import findspark\n",
    "findspark.init()\n",
    "from pyspark.sql import SparkSession\n",
    "from pyspark.sql import functions as F"
   ]
  },
  {
   "cell_type": "code",
   "execution_count": null,
   "id": "19b9ef8f",
   "metadata": {},
   "outputs": [],
   "source": [
    "spark = SparkSession.builder.appName(\"TransactionAnalytics\").getOrCreate()"
   ]
  },
  {
   "cell_type": "code",
   "execution_count": 45,
   "id": "c889d302",
   "metadata": {},
   "outputs": [],
   "source": [
    "# Define correct column names\n",
    "columns = [\n",
    "    \"transaction_id\", \"tx_datetime\", \"customer_id\", \"terminal_id\",\n",
    "    \"tx_amount\", \"tx_time_seconds\", \"tx_time_days\", \"tx_fraud\", \"tx_fraud_scenario\"\n",
    "]\n",
    "\n",
    "# Define correct column names\n",
    "numeric_columns = [\n",
    "    \"transaction_id\", \"customer_id\", \"terminal_id\",\n",
    "    \"tx_amount\", \"tx_time_seconds\", \"tx_time_days\", \"tx_fraud\", \"tx_fraud_scenario\"\n",
    "]"
   ]
  },
  {
   "cell_type": "code",
   "execution_count": 55,
   "id": "913b5c0c",
   "metadata": {},
   "outputs": [
    {
     "name": "stderr",
     "output_type": "stream",
     "text": [
      "                                                                                "
     ]
    }
   ],
   "source": [
    "df = spark.read.option(\"comment\", \"#\").option(\"sep\", \",\").csv(\"/user/ubuntu/data/\").toDF(*columns)"
   ]
  },
  {
   "cell_type": "code",
   "execution_count": 60,
   "id": "60137946-6daa-414f-befd-b851e2044b77",
   "metadata": {},
   "outputs": [
    {
     "name": "stderr",
     "output_type": "stream",
     "text": [
      "                                                                                "
     ]
    },
    {
     "data": {
      "text/plain": [
       "1879794138"
      ]
     },
     "execution_count": 60,
     "metadata": {},
     "output_type": "execute_result"
    }
   ],
   "source": [
    "data_row_count = df.count()\n",
    "data_row_count"
   ]
  },
  {
   "cell_type": "markdown",
   "id": "2d370bd8-413c-4eeb-b34f-046fb0a5fdf9",
   "metadata": {},
   "source": [
    "### Схема данных"
   ]
  },
  {
   "cell_type": "code",
   "execution_count": 15,
   "id": "3ee2f55c-5425-4ca5-962a-62afb5808341",
   "metadata": {},
   "outputs": [
    {
     "name": "stdout",
     "output_type": "stream",
     "text": [
      "root\n",
      " |-- transaction_id: string (nullable = true)\n",
      " |-- tx_datetime: string (nullable = true)\n",
      " |-- customer_id: string (nullable = true)\n",
      " |-- terminal_id: string (nullable = true)\n",
      " |-- tx_amount: string (nullable = true)\n",
      " |-- tx_time_seconds: string (nullable = true)\n",
      " |-- tx_time_days: string (nullable = true)\n",
      " |-- tx_fraud: string (nullable = true)\n",
      " |-- tx_fraud_scenario: string (nullable = true)\n",
      "\n"
     ]
    }
   ],
   "source": [
    "df.printSchema()"
   ]
  },
  {
   "cell_type": "markdown",
   "id": "0898a290-c5bb-4d73-819a-ccb65e368cc1",
   "metadata": {},
   "source": [
    "### Проверка на тип данных"
   ]
  },
  {
   "cell_type": "code",
   "execution_count": 40,
   "id": "be15b035-6ef7-40d3-9204-cf8032cd87e8",
   "metadata": {},
   "outputs": [
    {
     "name": "stderr",
     "output_type": "stream",
     "text": [
      "[Stage 86:>                                                         (0 + 1) / 1]"
     ]
    },
    {
     "name": "stdout",
     "output_type": "stream",
     "text": [
      "+--------+----------+\n",
      "|tx_fraud|     count|\n",
      "+--------+----------+\n",
      "|       0|1768455409|\n",
      "|       1| 111338729|\n",
      "+--------+----------+\n",
      "\n"
     ]
    },
    {
     "name": "stderr",
     "output_type": "stream",
     "text": [
      "                                                                                "
     ]
    }
   ],
   "source": [
    "df.groupBy(F.col(\"tx_fraud\")).count().show()"
   ]
  },
  {
   "cell_type": "code",
   "execution_count": 41,
   "id": "817296d0-9722-4c86-92c3-035a139d2ec3",
   "metadata": {},
   "outputs": [
    {
     "name": "stderr",
     "output_type": "stream",
     "text": [
      "[Stage 89:>                                                         (0 + 1) / 1]"
     ]
    },
    {
     "name": "stdout",
     "output_type": "stream",
     "text": [
      "+-----------------+----------+\n",
      "|tx_fraud_scenario|     count|\n",
      "+-----------------+----------+\n",
      "|                3|   2608461|\n",
      "|                0|1768455409|\n",
      "|                1|   1018093|\n",
      "|                2| 107712175|\n",
      "+-----------------+----------+\n",
      "\n"
     ]
    },
    {
     "name": "stderr",
     "output_type": "stream",
     "text": [
      "                                                                                "
     ]
    }
   ],
   "source": [
    "df.groupBy(F.col(\"tx_fraud_scenario\")).count().show()"
   ]
  },
  {
   "cell_type": "code",
   "execution_count": 57,
   "id": "ff94632b-3b9c-415a-bc11-5a326a0ff695",
   "metadata": {},
   "outputs": [
    {
     "name": "stderr",
     "output_type": "stream",
     "text": [
      "[Stage 26:=====================================================>(905 + 2) / 907]"
     ]
    },
    {
     "name": "stdout",
     "output_type": "stream",
     "text": [
      "CPU times: user 3.3 s, sys: 690 ms, total: 3.99 s\n",
      "Wall time: 41min 1s\n"
     ]
    },
    {
     "name": "stderr",
     "output_type": "stream",
     "text": [
      "                                                                                "
     ]
    }
   ],
   "source": [
    "%%time\n",
    "wrong_data_type = dict()\n",
    "for col in numeric_columns:\n",
    "    wrong_data_type[col] = df.filter(F.col(col).cast(\"int\").isNull()).count()"
   ]
  },
  {
   "cell_type": "code",
   "execution_count": 62,
   "id": "1c1b9a52-d00c-4695-a645-d8aa38e7a5c8",
   "metadata": {},
   "outputs": [
    {
     "name": "stdout",
     "output_type": "stream",
     "text": [
      "transaction_id has 0 wrong data type rows\n",
      "customer_id has 0 wrong data type rows\n",
      "terminal_id has 40312 wrong data type rows\n",
      "tx_amount has 0 wrong data type rows\n",
      "tx_time_seconds has 0 wrong data type rows\n",
      "tx_time_days has 0 wrong data type rows\n",
      "tx_fraud has 0 wrong data type rows\n",
      "tx_fraud_scenario has 0 wrong data type rows\n"
     ]
    }
   ],
   "source": [
    "for col, count in wrong_data_type.items():\n",
    "    print(col + ' has ' + str(count) + ' wrong data type rows')"
   ]
  },
  {
   "cell_type": "code",
   "execution_count": 58,
   "id": "7b05328e-2b10-4488-bdbb-77c29e128d5b",
   "metadata": {},
   "outputs": [
    {
     "name": "stderr",
     "output_type": "stream",
     "text": [
      "                                                                                "
     ]
    }
   ],
   "source": [
    "dt_count = df.filter(F.when(df.tx_datetime.rlike('\\\\d{4}-(0[1-9]|1[012])-(0[1-9]|[12][0-9]|3[01])'), False).otherwise(True)).count()"
   ]
  },
  {
   "cell_type": "code",
   "execution_count": 63,
   "id": "d448586e-c9c5-414d-95e1-962beb6718d2",
   "metadata": {},
   "outputs": [
    {
     "name": "stdout",
     "output_type": "stream",
     "text": [
      "Column tx_datetime has 0 wrong type rows\n"
     ]
    }
   ],
   "source": [
    "print('Column tx_datetime has ' + str(dt_count) + ' wrong type rows')"
   ]
  },
  {
   "cell_type": "markdown",
   "id": "fd0cfa0f-4289-4d28-a2ef-ab06063dd6ab",
   "metadata": {},
   "source": [
    "### Проверка на границы значений"
   ]
  },
  {
   "cell_type": "code",
   "execution_count": 65,
   "id": "21ec4da8-a568-4191-aa4a-b77ef533e799",
   "metadata": {},
   "outputs": [
    {
     "name": "stderr",
     "output_type": "stream",
     "text": [
      "[Stage 86:=====================================================>(905 + 2) / 907]"
     ]
    },
    {
     "name": "stdout",
     "output_type": "stream",
     "text": [
      "CPU times: user 3.49 s, sys: 686 ms, total: 4.18 s\n",
      "Wall time: 41min 47s\n"
     ]
    },
    {
     "name": "stderr",
     "output_type": "stream",
     "text": [
      "                                                                                "
     ]
    }
   ],
   "source": [
    "%%time\n",
    "wrong_data_range = dict()\n",
    "for col in numeric_columns:\n",
    "    wrong_data_range[col] = df.filter(F.col(col) < 0).count()"
   ]
  },
  {
   "cell_type": "code",
   "execution_count": 66,
   "id": "1a9b9ca5-e79a-4a7e-b41e-9b2f4ba26b6a",
   "metadata": {},
   "outputs": [
    {
     "name": "stdout",
     "output_type": "stream",
     "text": [
      "transaction_id has 0 wrong data range rows\n",
      "customer_id has 14623 wrong data range rows\n",
      "terminal_id has 0 wrong data range rows\n",
      "tx_amount has 0 wrong data range rows\n",
      "tx_time_seconds has 0 wrong data range rows\n",
      "tx_time_days has 0 wrong data range rows\n",
      "tx_fraud has 0 wrong data range rows\n",
      "tx_fraud_scenario has 0 wrong data range rows\n"
     ]
    }
   ],
   "source": [
    "for col, count in wrong_data_range.items():\n",
    "    print(col + ' has ' + str(count) + ' wrong data range rows')"
   ]
  },
  {
   "cell_type": "markdown",
   "id": "d4c9e000-7794-439f-ba6e-daeee21c404d",
   "metadata": {},
   "source": [
    "### Проверка ID транзакций на уникальность"
   ]
  },
  {
   "cell_type": "code",
   "execution_count": 61,
   "id": "6f07c2aa-3c93-4cba-aa6a-30f359f43586",
   "metadata": {},
   "outputs": [
    {
     "name": "stderr",
     "output_type": "stream",
     "text": [
      "[Stage 61:=====================================================>(198 + 2) / 200]"
     ]
    },
    {
     "name": "stdout",
     "output_type": "stream",
     "text": [
      "1879791585\n",
      "There are 2553 not unique transaction id rows\n"
     ]
    },
    {
     "name": "stderr",
     "output_type": "stream",
     "text": [
      "                                                                                "
     ]
    }
   ],
   "source": [
    "# min_id = df.select(\"transaction_id\").min()\n",
    "# max_id = df.select(\"transaction_id\").max()\n",
    "transaction_id_count = df.select(\"transaction_id\").distinct().count()\n",
    "print(transaction_id_count)\n",
    "print('There are ' + str(data_row_count - transaction_id_count) + ' not unique transaction id rows' )"
   ]
  },
  {
   "cell_type": "markdown",
   "id": "3be57a00-14cf-48a8-a9c9-4ea544a3c526",
   "metadata": {},
   "source": [
    "### Проверка на nan"
   ]
  },
  {
   "cell_type": "code",
   "execution_count": 11,
   "id": "f653a881-b2eb-4c8b-bca4-9c8cd69a021e",
   "metadata": {},
   "outputs": [],
   "source": [
    "from pyspark.sql.functions import isnan, when, count, col"
   ]
  },
  {
   "cell_type": "code",
   "execution_count": 14,
   "id": "cedfda94-6747-4afb-b3de-666b89579bb7",
   "metadata": {},
   "outputs": [
    {
     "name": "stderr",
     "output_type": "stream",
     "text": [
      "[Stage 27:=====================================================>(906 + 1) / 907]"
     ]
    },
    {
     "name": "stdout",
     "output_type": "stream",
     "text": [
      "+--------------+-----------+-----------+-----------+---------+---------------+------------+--------+-----------------+\n",
      "|transaction_id|tx_datetime|customer_id|terminal_id|tx_amount|tx_time_seconds|tx_time_days|tx_fraud|tx_fraud_scenario|\n",
      "+--------------+-----------+-----------+-----------+---------+---------------+------------+--------+-----------------+\n",
      "|             0|          0|          0|          0|        0|              0|           0|       0|                0|\n",
      "+--------------+-----------+-----------+-----------+---------+---------------+------------+--------+-----------------+\n",
      "\n",
      "CPU times: user 1.01 s, sys: 246 ms, total: 1.26 s\n",
      "Wall time: 27min 32s\n"
     ]
    },
    {
     "name": "stderr",
     "output_type": "stream",
     "text": [
      "                                                                                "
     ]
    }
   ],
   "source": [
    "%%time\n",
    "df.select([count(when(isnan(c), c)).alias(c) for c in df.columns]).show()"
   ]
  }
 ],
 "metadata": {
  "kernelspec": {
   "display_name": "Python 3 (ipykernel)",
   "language": "python",
   "name": "python3"
  },
  "language_info": {
   "codemirror_mode": {
    "name": "ipython",
    "version": 3
   },
   "file_extension": ".py",
   "mimetype": "text/x-python",
   "name": "python",
   "nbconvert_exporter": "python",
   "pygments_lexer": "ipython3",
   "version": "3.8.13"
  }
 },
 "nbformat": 4,
 "nbformat_minor": 5
}